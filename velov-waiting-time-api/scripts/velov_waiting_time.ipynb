{
 "cells": [
  {
   "cell_type": "code",
   "execution_count": 7,
   "id": "de9b35fc-c3a9-4ca9-bbfe-36d4ef25d51f",
   "metadata": {},
   "outputs": [
    {
     "name": "stdout",
     "output_type": "stream",
     "text": [
      "Collecting pandas\n",
      "  Downloading pandas-1.2.4-cp39-cp39-macosx_10_9_x86_64.whl (10.7 MB)\n",
      "\u001b[K     |████████████████████████████████| 10.7 MB 3.1 MB/s eta 0:00:01\n",
      "\u001b[?25hRequirement already satisfied: pytz>=2017.3 in /usr/local/lib/python3.9/site-packages (from pandas) (2021.1)\n",
      "Requirement already satisfied: python-dateutil>=2.7.3 in /usr/local/lib/python3.9/site-packages (from pandas) (2.8.1)\n",
      "Requirement already satisfied: numpy>=1.16.5 in /usr/local/lib/python3.9/site-packages (from pandas) (1.20.2)\n",
      "Requirement already satisfied: six>=1.5 in /usr/local/lib/python3.9/site-packages (from python-dateutil>=2.7.3->pandas) (1.15.0)\n",
      "Installing collected packages: pandas\n",
      "Successfully installed pandas-1.2.4\n",
      "\u001b[33mWARNING: You are using pip version 21.0.1; however, version 21.1 is available.\n",
      "You should consider upgrading via the '/usr/local/opt/python@3.9/bin/python3.9 -m pip install --upgrade pip' command.\u001b[0m\n",
      "Note: you may need to restart the kernel to use updated packages.\n"
     ]
    }
   ],
   "source": [
    "pip install pandas"
   ]
  },
  {
   "cell_type": "code",
   "execution_count": 8,
   "id": "03ed1c6f-dc28-4653-880c-def56e9348f3",
   "metadata": {},
   "outputs": [],
   "source": [
    "# coding: utf8 \n",
    "import urllib\n",
    "import json\n",
    "from pprint import pprint\n",
    "import psycopg2\n",
    "import threading\n",
    "import velovUtils\n",
    "import time"
   ]
  },
  {
   "cell_type": "code",
   "execution_count": 20,
   "id": "2728ecb4-907f-4215-a44d-9f0d1cc29384",
   "metadata": {},
   "outputs": [],
   "source": [
    "url = \"https://download.data.grandlyon.com/ws/ldata/velov.stations/all.json?maxfeatures=-1&start=1\"\n",
    "response = urllib.request.urlopen(url)\n",
    "datajson = response.read()\n",
    "datajson = json.loads(datajson)"
   ]
  },
  {
   "cell_type": "code",
   "execution_count": 22,
   "id": "f799a59e-fdd9-4882-b92e-01afa35e19d4",
   "metadata": {},
   "outputs": [],
   "source": [
    "url = 'https://download.data.grandlyon.com/ws/rdata/jcd_jcdecaux.jcdvelov/all.json'\n",
    "response = urllib.request.urlopen(url)\n",
    "datajson = response.read()\n",
    "datajson = json.loads(datajson)"
   ]
  },
  {
   "cell_type": "code",
   "execution_count": 24,
   "id": "12873edb-f079-414e-8ab1-7dc80e6fff26",
   "metadata": {},
   "outputs": [],
   "source": []
  },
  {
   "cell_type": "code",
   "execution_count": null,
   "id": "9530b6ba-4f24-4faf-8901-f45f1a0d3860",
   "metadata": {},
   "outputs": [],
   "source": []
  },
  {
   "cell_type": "code",
   "execution_count": null,
   "id": "1346e281-aa8b-4881-95ae-0709849b5eb6",
   "metadata": {},
   "outputs": [],
   "source": []
  },
  {
   "cell_type": "code",
   "execution_count": null,
   "id": "ab5d08d1-891b-43f7-af27-5335115b7fc7",
   "metadata": {},
   "outputs": [],
   "source": []
  },
  {
   "cell_type": "code",
   "execution_count": null,
   "id": "7fcffce4-29d5-46e5-a549-91387f7ace64",
   "metadata": {},
   "outputs": [],
   "source": []
  },
  {
   "cell_type": "code",
   "execution_count": null,
   "id": "288d183e-31d3-41db-976d-7ba829d24cbf",
   "metadata": {},
   "outputs": [],
   "source": []
  },
  {
   "cell_type": "code",
   "execution_count": null,
   "id": "1e1d356a-e466-47e4-b712-c29f5cf456cc",
   "metadata": {},
   "outputs": [],
   "source": []
  },
  {
   "cell_type": "code",
   "execution_count": null,
   "id": "2c32c246-87ed-4988-82c1-ff44772733c6",
   "metadata": {},
   "outputs": [],
   "source": []
  },
  {
   "cell_type": "code",
   "execution_count": null,
   "id": "7434d18d-db4b-47c5-8779-199a6afe3c4e",
   "metadata": {},
   "outputs": [],
   "source": []
  },
  {
   "cell_type": "code",
   "execution_count": null,
   "id": "bf1b18da-b0d7-45fd-9a99-fb9f76670c5a",
   "metadata": {},
   "outputs": [],
   "source": []
  },
  {
   "cell_type": "code",
   "execution_count": null,
   "id": "d7f16872-ab83-49f1-8bca-c91b3ba45684",
   "metadata": {},
   "outputs": [],
   "source": []
  },
  {
   "cell_type": "code",
   "execution_count": null,
   "id": "7733eb77-a8b2-407d-bbe5-cd15eb7c3510",
   "metadata": {},
   "outputs": [],
   "source": []
  },
  {
   "cell_type": "code",
   "execution_count": null,
   "id": "18fbe025-42be-4155-9a96-ff7db3bc702b",
   "metadata": {},
   "outputs": [],
   "source": []
  },
  {
   "cell_type": "code",
   "execution_count": null,
   "id": "62459ebb-95de-4e42-8538-e5ee0948ce35",
   "metadata": {},
   "outputs": [],
   "source": []
  },
  {
   "cell_type": "code",
   "execution_count": null,
   "id": "497a3c37-4040-48d6-a2dc-a6e3cd7de364",
   "metadata": {},
   "outputs": [],
   "source": []
  }
 ],
 "metadata": {
  "kernelspec": {
   "display_name": "Python 3",
   "language": "python",
   "name": "python3"
  },
  "language_info": {
   "codemirror_mode": {
    "name": "ipython",
    "version": 3
   },
   "file_extension": ".py",
   "mimetype": "text/x-python",
   "name": "python",
   "nbconvert_exporter": "python",
   "pygments_lexer": "ipython3",
   "version": "3.9.4"
  }
 },
 "nbformat": 4,
 "nbformat_minor": 5
}
