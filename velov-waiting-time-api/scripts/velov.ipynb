{
 "cells": [
  {
   "cell_type": "code",
   "execution_count": 9,
   "metadata": {},
   "outputs": [],
   "source": [
    "import psycopg2\n",
    "import urllib\n",
    "import json\n",
    "import velovUtils\n",
    "import pandas as pd\n",
    "from datetime import timedelta\n",
    "import datetime\n",
    "import seaborn as sns\n",
    "from scipy.stats import exponweib\n",
    "url = 'https://download.data.grandlyon.com/ws/rdata/jcd_jcdecaux.jcdvelov/all.json'\n",
    "conn = psycopg2.connect(database = \"velov\", \n",
    "                        user = \"dev\", \n",
    "                        password = \"velov\", \n",
    "                        host = \"localhost\" ,\n",
    "                        port = \"5432\")"
   ]
  },
  {
   "cell_type": "code",
   "execution_count": 33,
   "metadata": {},
   "outputs": [],
   "source": [
    "# Create sql statement for retrieve data from database for given station and given hour\n",
    "station = 11\n",
    "hour = 9\n",
    "sqlSelect = \"select distinct last_update, available_bike_stands from velovdata where station_name =\" + str(\n",
    "        station) + \" and extract(HOUR FROM last_update) =\" + str(hour) + \" order by last_update\""
   ]
  },
  {
   "cell_type": "code",
   "execution_count": 34,
   "metadata": {},
   "outputs": [],
   "source": [
    "# Retrieve all data for station at given hour into a pandas.dataFrame\n",
    "cur = conn.cursor()\n",
    "cur.execute(sqlSelect)\n",
    "data = cur.fetchall()\n",
    "dataAsDF = pd.DataFrame(data)\n",
    "labels = ['last_update', 'avail_bike_stands']\n",
    "for columns_label in range(0, len(labels)):\n",
    "    dataAsDF = dataAsDF.rename(columns={columns_label: labels[columns_label]})"
   ]
  },
  {
   "cell_type": "code",
   "execution_count": 35,
   "metadata": {},
   "outputs": [
    {
     "data": {
      "text/html": [
       "<div>\n",
       "<style scoped>\n",
       "    .dataframe tbody tr th:only-of-type {\n",
       "        vertical-align: middle;\n",
       "    }\n",
       "\n",
       "    .dataframe tbody tr th {\n",
       "        vertical-align: top;\n",
       "    }\n",
       "\n",
       "    .dataframe thead th {\n",
       "        text-align: right;\n",
       "    }\n",
       "</style>\n",
       "<table border=\"1\" class=\"dataframe\">\n",
       "  <thead>\n",
       "    <tr style=\"text-align: right;\">\n",
       "      <th></th>\n",
       "    </tr>\n",
       "  </thead>\n",
       "  <tbody>\n",
       "  </tbody>\n",
       "</table>\n",
       "</div>"
      ],
      "text/plain": [
       "Empty DataFrame\n",
       "Columns: []\n",
       "Index: []"
      ]
     },
     "execution_count": 35,
     "metadata": {},
     "output_type": "execute_result"
    }
   ],
   "source": [
    "dataAsDF"
   ]
  },
  {
   "cell_type": "code",
   "execution_count": 25,
   "metadata": {},
   "outputs": [],
   "source": [
    "# First add to dataAsDF column for duration between two update\n",
    "duration = [timedelta(seconds=0)] + list(dataAsDF.last_update[i + 1] - dataAsDF.last_update[i] \n",
    "                                         for i in range(0, len(dataAsDF) - 1))\n",
    "dataAsDF = pd.concat([dataAsDF, pd.DataFrame(duration)], axis=1)\n",
    "dataAsDF = dataAsDF.rename(columns={0: 'duration_since_last_update'})"
   ]
  },
  {
   "cell_type": "code",
   "execution_count": 26,
   "metadata": {},
   "outputs": [
    {
     "data": {
      "text/html": [
       "<div>\n",
       "<style scoped>\n",
       "    .dataframe tbody tr th:only-of-type {\n",
       "        vertical-align: middle;\n",
       "    }\n",
       "\n",
       "    .dataframe tbody tr th {\n",
       "        vertical-align: top;\n",
       "    }\n",
       "\n",
       "    .dataframe thead th {\n",
       "        text-align: right;\n",
       "    }\n",
       "</style>\n",
       "<table border=\"1\" class=\"dataframe\">\n",
       "  <thead>\n",
       "    <tr style=\"text-align: right;\">\n",
       "      <th></th>\n",
       "      <th>last_update</th>\n",
       "      <th>avail_bike_stands</th>\n",
       "      <th>duration_since_last_update</th>\n",
       "    </tr>\n",
       "  </thead>\n",
       "  <tbody>\n",
       "    <tr>\n",
       "      <th>0</th>\n",
       "      <td>2022-05-19 06:57:43</td>\n",
       "      <td>10</td>\n",
       "      <td>0 days 00:00:00</td>\n",
       "    </tr>\n",
       "    <tr>\n",
       "      <th>1</th>\n",
       "      <td>2022-05-19 06:59:13</td>\n",
       "      <td>30</td>\n",
       "      <td>0 days 00:01:30</td>\n",
       "    </tr>\n",
       "    <tr>\n",
       "      <th>2</th>\n",
       "      <td>2022-05-19 07:05:11</td>\n",
       "      <td>30</td>\n",
       "      <td>0 days 00:05:58</td>\n",
       "    </tr>\n",
       "    <tr>\n",
       "      <th>3</th>\n",
       "      <td>2022-05-19 07:15:16</td>\n",
       "      <td>30</td>\n",
       "      <td>0 days 00:10:05</td>\n",
       "    </tr>\n",
       "    <tr>\n",
       "      <th>4</th>\n",
       "      <td>2022-05-19 07:26:41</td>\n",
       "      <td>29</td>\n",
       "      <td>0 days 00:11:25</td>\n",
       "    </tr>\n",
       "    <tr>\n",
       "      <th>5</th>\n",
       "      <td>2022-05-19 07:27:47</td>\n",
       "      <td>28</td>\n",
       "      <td>0 days 00:01:06</td>\n",
       "    </tr>\n",
       "    <tr>\n",
       "      <th>6</th>\n",
       "      <td>2022-05-19 07:29:14</td>\n",
       "      <td>29</td>\n",
       "      <td>0 days 00:01:27</td>\n",
       "    </tr>\n",
       "    <tr>\n",
       "      <th>7</th>\n",
       "      <td>2022-05-19 07:40:18</td>\n",
       "      <td>30</td>\n",
       "      <td>0 days 00:11:04</td>\n",
       "    </tr>\n",
       "    <tr>\n",
       "      <th>8</th>\n",
       "      <td>2022-05-19 07:42:19</td>\n",
       "      <td>29</td>\n",
       "      <td>0 days 00:02:01</td>\n",
       "    </tr>\n",
       "    <tr>\n",
       "      <th>9</th>\n",
       "      <td>2022-05-19 07:45:53</td>\n",
       "      <td>28</td>\n",
       "      <td>0 days 00:03:34</td>\n",
       "    </tr>\n",
       "    <tr>\n",
       "      <th>10</th>\n",
       "      <td>2022-05-19 07:49:58</td>\n",
       "      <td>29</td>\n",
       "      <td>0 days 00:04:05</td>\n",
       "    </tr>\n",
       "  </tbody>\n",
       "</table>\n",
       "</div>"
      ],
      "text/plain": [
       "           last_update  avail_bike_stands duration_since_last_update\n",
       "0  2022-05-19 06:57:43                 10            0 days 00:00:00\n",
       "1  2022-05-19 06:59:13                 30            0 days 00:01:30\n",
       "2  2022-05-19 07:05:11                 30            0 days 00:05:58\n",
       "3  2022-05-19 07:15:16                 30            0 days 00:10:05\n",
       "4  2022-05-19 07:26:41                 29            0 days 00:11:25\n",
       "5  2022-05-19 07:27:47                 28            0 days 00:01:06\n",
       "6  2022-05-19 07:29:14                 29            0 days 00:01:27\n",
       "7  2022-05-19 07:40:18                 30            0 days 00:11:04\n",
       "8  2022-05-19 07:42:19                 29            0 days 00:02:01\n",
       "9  2022-05-19 07:45:53                 28            0 days 00:03:34\n",
       "10 2022-05-19 07:49:58                 29            0 days 00:04:05"
      ]
     },
     "execution_count": 26,
     "metadata": {},
     "output_type": "execute_result"
    }
   ],
   "source": [
    "dataAsDF"
   ]
  },
  {
   "cell_type": "code",
   "execution_count": 18,
   "metadata": {},
   "outputs": [],
   "source": [
    "dataAsDF['real_update'] = dataAsDF['duration_since_last_update'].apply(lambda update: \n",
    "                                                                       update <= timedelta(minutes=10))"
   ]
  },
  {
   "cell_type": "code",
   "execution_count": null,
   "metadata": {},
   "outputs": [],
   "source": [
    "dataAsDF.to_csv('test.csv')"
   ]
  },
  {
   "cell_type": "code",
   "execution_count": null,
   "metadata": {},
   "outputs": [],
   "source": [
    "sns.displot(data=dataAsDF.loc[dataAsDF['real_update']==True]['avail_bike_stands'],\n",
    "            kde=True)"
   ]
  },
  {
   "cell_type": "code",
   "execution_count": null,
   "metadata": {},
   "outputs": [],
   "source": [
    "weibulltheo = exponweib.rvs(1, 0.5, loc=0, scale=1, size=200)\n",
    "sns.displot(data=weibulltheo,\n",
    "           kde=True)"
   ]
  },
  {
   "cell_type": "code",
   "execution_count": null,
   "metadata": {},
   "outputs": [],
   "source": []
  }
 ],
 "metadata": {
  "kernelspec": {
   "display_name": "Python 3",
   "language": "python",
   "name": "python3"
  },
  "language_info": {
   "codemirror_mode": {
    "name": "ipython",
    "version": 3
   },
   "file_extension": ".py",
   "mimetype": "text/x-python",
   "name": "python",
   "nbconvert_exporter": "python",
   "pygments_lexer": "ipython3",
   "version": "3.8.10"
  }
 },
 "nbformat": 4,
 "nbformat_minor": 5
}
