{
 "cells": [
  {
   "cell_type": "code",
   "execution_count": 12,
   "metadata": {},
   "outputs": [],
   "source": [
    "import psycopg2\n",
    "import urllib\n",
    "import json\n",
    "import velovUtils\n",
    "import pandas as pd\n",
    "from datetime import timedelta\n",
    "import datetime\n",
    "import seaborn as sns\n",
    "from scipy.stats import exponweib\n",
    "url = 'https://download.data.grandlyon.com/ws/rdata/jcd_jcdecaux.jcdvelov/all.json'\n",
    "conn = psycopg2.connect(database = \"velov\", \n",
    "                        user = \"dev\", \n",
    "                        password = \"velov\", \n",
    "                        host = \"localhost\" ,\n",
    "                        port = \"5432\")"
   ]
  },
  {
   "cell_type": "code",
   "execution_count": 21,
   "metadata": {},
   "outputs": [],
   "source": [
    "# Create sql statement for retrieve data from database for given station and given hour\n",
    "station = 11\n",
    "hour = 9\n",
    "sqlSelect = \"select distinct last_update, available_bike_stands, last_update_fme from stations_data where station_id =\" + str(\n",
    "        station) + \" and extract(HOUR FROM last_update) =\" + str(hour) + \" order by last_update\""
   ]
  },
  {
   "cell_type": "code",
   "execution_count": 22,
   "metadata": {},
   "outputs": [],
   "source": [
    "# Retrieve all data for station at given hour into a pandas.dataFrame\n",
    "cur = conn.cursor()\n",
    "cur.execute(sqlSelect)\n",
    "data = cur.fetchall()\n",
    "data\n",
    "dataAsDF = pd.DataFrame(data)\n",
    "labels = ['last_update', 'avail_bike_stands', \"last_update_fme\"]\n",
    "for columns_label in range(0, len(labels)):\n",
    "    dataAsDF = dataAsDF.rename(columns={columns_label: labels[columns_label]})"
   ]
  },
  {
   "cell_type": "code",
   "execution_count": 23,
   "metadata": {},
   "outputs": [
    {
     "data": {
      "text/plain": [
       "[]"
      ]
     },
     "execution_count": 23,
     "metadata": {},
     "output_type": "execute_result"
    }
   ],
   "source": [
    "data"
   ]
  },
  {
   "cell_type": "code",
   "execution_count": 18,
   "metadata": {},
   "outputs": [
    {
     "data": {
      "text/html": [
       "<div>\n",
       "<style scoped>\n",
       "    .dataframe tbody tr th:only-of-type {\n",
       "        vertical-align: middle;\n",
       "    }\n",
       "\n",
       "    .dataframe tbody tr th {\n",
       "        vertical-align: top;\n",
       "    }\n",
       "\n",
       "    .dataframe thead th {\n",
       "        text-align: right;\n",
       "    }\n",
       "</style>\n",
       "<table border=\"1\" class=\"dataframe\">\n",
       "  <thead>\n",
       "    <tr style=\"text-align: right;\">\n",
       "      <th></th>\n",
       "      <th>last_update</th>\n",
       "      <th>avail_bike_stands</th>\n",
       "      <th>last_update_fme</th>\n",
       "    </tr>\n",
       "  </thead>\n",
       "  <tbody>\n",
       "    <tr>\n",
       "      <th>0</th>\n",
       "      <td>2022-05-20 07:32:21</td>\n",
       "      <td>11</td>\n",
       "      <td>2022-05-20 09:41:05</td>\n",
       "    </tr>\n",
       "    <tr>\n",
       "      <th>1</th>\n",
       "      <td>2022-05-20 07:42:27</td>\n",
       "      <td>11</td>\n",
       "      <td>2022-05-20 09:44:18</td>\n",
       "    </tr>\n",
       "    <tr>\n",
       "      <th>2</th>\n",
       "      <td>2022-05-20 07:42:27</td>\n",
       "      <td>11</td>\n",
       "      <td>2022-05-20 09:45:02</td>\n",
       "    </tr>\n",
       "    <tr>\n",
       "      <th>3</th>\n",
       "      <td>2022-05-20 07:45:56</td>\n",
       "      <td>24</td>\n",
       "      <td>2022-05-20 09:48:00</td>\n",
       "    </tr>\n",
       "    <tr>\n",
       "      <th>4</th>\n",
       "      <td>2022-05-20 07:45:56</td>\n",
       "      <td>24</td>\n",
       "      <td>2022-05-20 09:50:18</td>\n",
       "    </tr>\n",
       "    <tr>\n",
       "      <th>5</th>\n",
       "      <td>2022-05-20 07:45:56</td>\n",
       "      <td>24</td>\n",
       "      <td>2022-05-20 09:53:06</td>\n",
       "    </tr>\n",
       "    <tr>\n",
       "      <th>6</th>\n",
       "      <td>2022-05-20 07:49:36</td>\n",
       "      <td>10</td>\n",
       "      <td>2022-05-20 09:54:14</td>\n",
       "    </tr>\n",
       "    <tr>\n",
       "      <th>7</th>\n",
       "      <td>2022-05-20 07:55:58</td>\n",
       "      <td>24</td>\n",
       "      <td>2022-05-20 09:57:16</td>\n",
       "    </tr>\n",
       "    <tr>\n",
       "      <th>8</th>\n",
       "      <td>2022-05-20 07:55:58</td>\n",
       "      <td>24</td>\n",
       "      <td>2022-05-20 09:59:03</td>\n",
       "    </tr>\n",
       "  </tbody>\n",
       "</table>\n",
       "</div>"
      ],
      "text/plain": [
       "          last_update  avail_bike_stands     last_update_fme\n",
       "0 2022-05-20 07:32:21                 11 2022-05-20 09:41:05\n",
       "1 2022-05-20 07:42:27                 11 2022-05-20 09:44:18\n",
       "2 2022-05-20 07:42:27                 11 2022-05-20 09:45:02\n",
       "3 2022-05-20 07:45:56                 24 2022-05-20 09:48:00\n",
       "4 2022-05-20 07:45:56                 24 2022-05-20 09:50:18\n",
       "5 2022-05-20 07:45:56                 24 2022-05-20 09:53:06\n",
       "6 2022-05-20 07:49:36                 10 2022-05-20 09:54:14\n",
       "7 2022-05-20 07:55:58                 24 2022-05-20 09:57:16\n",
       "8 2022-05-20 07:55:58                 24 2022-05-20 09:59:03"
      ]
     },
     "execution_count": 18,
     "metadata": {},
     "output_type": "execute_result"
    }
   ],
   "source": [
    "dataAsDF"
   ]
  },
  {
   "cell_type": "code",
   "execution_count": 19,
   "metadata": {},
   "outputs": [],
   "source": [
    "# First add to dataAsDF column for duration between two update\n",
    "duration = [timedelta(seconds=0)] + list(dataAsDF.last_update[i + 1] - dataAsDF.last_update[i] \n",
    "                                         for i in range(0, len(dataAsDF) - 1))\n",
    "dataAsDF = pd.concat([dataAsDF, pd.DataFrame(duration)], axis=1)\n",
    "dataAsDF = dataAsDF.rename(columns={0: 'duration_since_last_update'})"
   ]
  },
  {
   "cell_type": "code",
   "execution_count": 20,
   "metadata": {},
   "outputs": [
    {
     "data": {
      "text/html": [
       "<div>\n",
       "<style scoped>\n",
       "    .dataframe tbody tr th:only-of-type {\n",
       "        vertical-align: middle;\n",
       "    }\n",
       "\n",
       "    .dataframe tbody tr th {\n",
       "        vertical-align: top;\n",
       "    }\n",
       "\n",
       "    .dataframe thead th {\n",
       "        text-align: right;\n",
       "    }\n",
       "</style>\n",
       "<table border=\"1\" class=\"dataframe\">\n",
       "  <thead>\n",
       "    <tr style=\"text-align: right;\">\n",
       "      <th></th>\n",
       "      <th>last_update</th>\n",
       "      <th>avail_bike_stands</th>\n",
       "      <th>last_update_fme</th>\n",
       "      <th>duration_since_last_update</th>\n",
       "    </tr>\n",
       "  </thead>\n",
       "  <tbody>\n",
       "    <tr>\n",
       "      <th>0</th>\n",
       "      <td>2022-05-20 07:32:21</td>\n",
       "      <td>11</td>\n",
       "      <td>2022-05-20 09:41:05</td>\n",
       "      <td>0 days 00:00:00</td>\n",
       "    </tr>\n",
       "    <tr>\n",
       "      <th>1</th>\n",
       "      <td>2022-05-20 07:42:27</td>\n",
       "      <td>11</td>\n",
       "      <td>2022-05-20 09:44:18</td>\n",
       "      <td>0 days 00:10:06</td>\n",
       "    </tr>\n",
       "    <tr>\n",
       "      <th>2</th>\n",
       "      <td>2022-05-20 07:42:27</td>\n",
       "      <td>11</td>\n",
       "      <td>2022-05-20 09:45:02</td>\n",
       "      <td>0 days 00:00:00</td>\n",
       "    </tr>\n",
       "    <tr>\n",
       "      <th>3</th>\n",
       "      <td>2022-05-20 07:45:56</td>\n",
       "      <td>24</td>\n",
       "      <td>2022-05-20 09:48:00</td>\n",
       "      <td>0 days 00:03:29</td>\n",
       "    </tr>\n",
       "    <tr>\n",
       "      <th>4</th>\n",
       "      <td>2022-05-20 07:45:56</td>\n",
       "      <td>24</td>\n",
       "      <td>2022-05-20 09:50:18</td>\n",
       "      <td>0 days 00:00:00</td>\n",
       "    </tr>\n",
       "    <tr>\n",
       "      <th>5</th>\n",
       "      <td>2022-05-20 07:45:56</td>\n",
       "      <td>24</td>\n",
       "      <td>2022-05-20 09:53:06</td>\n",
       "      <td>0 days 00:00:00</td>\n",
       "    </tr>\n",
       "    <tr>\n",
       "      <th>6</th>\n",
       "      <td>2022-05-20 07:49:36</td>\n",
       "      <td>10</td>\n",
       "      <td>2022-05-20 09:54:14</td>\n",
       "      <td>0 days 00:03:40</td>\n",
       "    </tr>\n",
       "    <tr>\n",
       "      <th>7</th>\n",
       "      <td>2022-05-20 07:55:58</td>\n",
       "      <td>24</td>\n",
       "      <td>2022-05-20 09:57:16</td>\n",
       "      <td>0 days 00:06:22</td>\n",
       "    </tr>\n",
       "    <tr>\n",
       "      <th>8</th>\n",
       "      <td>2022-05-20 07:55:58</td>\n",
       "      <td>24</td>\n",
       "      <td>2022-05-20 09:59:03</td>\n",
       "      <td>0 days 00:00:00</td>\n",
       "    </tr>\n",
       "  </tbody>\n",
       "</table>\n",
       "</div>"
      ],
      "text/plain": [
       "          last_update  avail_bike_stands     last_update_fme  \\\n",
       "0 2022-05-20 07:32:21                 11 2022-05-20 09:41:05   \n",
       "1 2022-05-20 07:42:27                 11 2022-05-20 09:44:18   \n",
       "2 2022-05-20 07:42:27                 11 2022-05-20 09:45:02   \n",
       "3 2022-05-20 07:45:56                 24 2022-05-20 09:48:00   \n",
       "4 2022-05-20 07:45:56                 24 2022-05-20 09:50:18   \n",
       "5 2022-05-20 07:45:56                 24 2022-05-20 09:53:06   \n",
       "6 2022-05-20 07:49:36                 10 2022-05-20 09:54:14   \n",
       "7 2022-05-20 07:55:58                 24 2022-05-20 09:57:16   \n",
       "8 2022-05-20 07:55:58                 24 2022-05-20 09:59:03   \n",
       "\n",
       "  duration_since_last_update  \n",
       "0            0 days 00:00:00  \n",
       "1            0 days 00:10:06  \n",
       "2            0 days 00:00:00  \n",
       "3            0 days 00:03:29  \n",
       "4            0 days 00:00:00  \n",
       "5            0 days 00:00:00  \n",
       "6            0 days 00:03:40  \n",
       "7            0 days 00:06:22  \n",
       "8            0 days 00:00:00  "
      ]
     },
     "execution_count": 20,
     "metadata": {},
     "output_type": "execute_result"
    }
   ],
   "source": [
    "dataAsDF"
   ]
  },
  {
   "cell_type": "code",
   "execution_count": null,
   "metadata": {},
   "outputs": [],
   "source": [
    "dataAsDF['real_update'] = dataAsDF['duration_since_last_update'].apply(lambda update: \n",
    "                                                                       update <= timedelta(minutes=10))"
   ]
  },
  {
   "cell_type": "code",
   "execution_count": null,
   "metadata": {},
   "outputs": [],
   "source": [
    "dataAsDF.to_csv('test.csv')"
   ]
  },
  {
   "cell_type": "code",
   "execution_count": null,
   "metadata": {},
   "outputs": [],
   "source": [
    "sns.displot(data=dataAsDF.loc[dataAsDF['real_update']==True]['avail_bike_stands'],\n",
    "            kde=True)"
   ]
  },
  {
   "cell_type": "code",
   "execution_count": null,
   "metadata": {},
   "outputs": [],
   "source": [
    "weibulltheo = exponweib.rvs(1, 0.5, loc=0, scale=1, size=200)\n",
    "sns.displot(data=weibulltheo,\n",
    "           kde=True)"
   ]
  },
  {
   "cell_type": "code",
   "execution_count": null,
   "metadata": {},
   "outputs": [],
   "source": []
  }
 ],
 "metadata": {
  "kernelspec": {
   "display_name": "Python 3",
   "language": "python",
   "name": "python3"
  },
  "language_info": {
   "codemirror_mode": {
    "name": "ipython",
    "version": 3
   },
   "file_extension": ".py",
   "mimetype": "text/x-python",
   "name": "python",
   "nbconvert_exporter": "python",
   "pygments_lexer": "ipython3",
   "version": "3.8.10"
  },
  "widgets": {
   "application/vnd.jupyter.widget-state+json": {
    "state": {},
    "version_major": 1,
    "version_minor": 0
   }
  }
 },
 "nbformat": 4,
 "nbformat_minor": 5
}
