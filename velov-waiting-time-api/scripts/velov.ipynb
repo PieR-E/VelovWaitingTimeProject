{
 "cells": [
  {
   "cell_type": "code",
   "execution_count": 1,
   "metadata": {},
   "outputs": [],
   "source": [
    "import psycopg2\n",
    "import urllib\n",
    "import json\n",
    "import velovUtils\n",
    "import pandas as pd\n",
    "from datetime import timedelta\n",
    "import datetime\n",
    "import seaborn as sns\n",
    "from scipy.stats import exponweib\n",
    "url = 'https://download.data.grandlyon.com/ws/rdata/jcd_jcdecaux.jcdvelov/all.json'\n",
    "conn = psycopg2.connect(database = \"velov\", \n",
    "                        user = \"dev\", \n",
    "                        password = \"velov\", \n",
    "                        host = \"localhost\" ,\n",
    "                        port = \"5432\")"
   ]
  },
  {
   "cell_type": "code",
   "execution_count": 2,
   "metadata": {},
   "outputs": [],
   "source": [
    "sqlDropStationsData = \"DROP TABLE stations_data\"\n",
    "sqlDropStations = \"DROP TABLE stations\"\n",
    "sqlDropStationsHours = \"DROP TABLE stations_hours\"\n",
    "\n",
    "sqlCreateStationsData = \"CREATE TABLE stations_data ( station_id integer, available_bikes integer, last_update timestamp without time zone, last_update_fme timestamp without time zone, status character varying(20), available_bike_stands integer, availabilitycode integer )\"\n",
    "sqlCreateStations = \"CREATE TABLE stations (station_id integer, name character varying(50), number integer, lat integer, lng integer, bike_stands integer, address character varying(50), code_insee integer, commune character varying(20))\"\n",
    "sqlCreateStationsHours = \"CREATE TABLE stations_hours (station_id integer, hour integer, exponentiation numeric, shape numeric, loc numeric, scale numeric)\""
   ]
  },
  {
   "cell_type": "code",
   "execution_count": null,
   "metadata": {},
   "outputs": [],
   "source": [
    "cur = conn.cursor()\n",
    "cur.execute(sqlDropStations)\n",
    "cur.execute(sqlDropStationsData)\n",
    "\n",
    "conn.commit()\n",
    "\n",
    "cur = conn.cursor()\n",
    "cur.execute(sqlCreateStationsHours)\n",
    "conn.commit()"
   ]
  },
  {
   "cell_type": "code",
   "execution_count": null,
   "metadata": {},
   "outputs": [],
   "source": [
    "# Create sql statement for retrieve data from database for given station and given hour\n",
    "station = 11\n",
    "hour = 13\n",
    "sqlSelect = \"select * from stations_data where station_id =\" + str(\n",
    "        station) + \" and extract(HOUR FROM last_update_fme) =\" + str(hour) + \" order by last_update\"\n",
    "cur = conn.cursor()\n",
    "cur.execute(sqlSelect)\n",
    "data = cur.fetchall()\n",
    "dataAsDF = pd.DataFrame(data)\n",
    "dataAsDF"
   ]
  },
  {
   "cell_type": "code",
   "execution_count": null,
   "metadata": {},
   "outputs": [],
   "source": [
    "# Create sql statement for retrieve data from database for given station and given hour\n",
    "station = 11\n",
    "hour = 9\n",
    "sqlSelect = \"select distinct last_update, available_bike_stands last_update_fme from velovdata where station_name =\" + str(\n",
    "        station) + \" and extract(HOUR FROM last_update_fme) =\" + str(hour) + \" order by last_update\""
   ]
  },
  {
   "cell_type": "code",
   "execution_count": null,
   "metadata": {},
   "outputs": [],
   "source": [
    "# Retrieve all data for station at given hour into a pandas.dataFrame\n",
    "cur = conn.cursor()\n",
    "cur.execute(sqlSelect)\n",
    "data = cur.fetchall()\n",
    "dataAsDF = pd.DataFrame(data)\n",
    "labels = ['last_update', 'avail_bike_stands', \"last_update_fme\"]\n",
    "for columns_label in range(0, len(labels)):\n",
    "    dataAsDF = dataAsDF.rename(columns={columns_label: labels[columns_label]})"
   ]
  },
  {
   "cell_type": "code",
   "execution_count": null,
   "metadata": {},
   "outputs": [],
   "source": [
    "dataAsDF"
   ]
  },
  {
   "cell_type": "code",
   "execution_count": null,
   "metadata": {},
   "outputs": [],
   "source": [
    "# First add to dataAsDF column for duration between two update\n",
    "duration = [timedelta(seconds=0)] + list(dataAsDF.last_update[i + 1] - dataAsDF.last_update[i] \n",
    "                                         for i in range(0, len(dataAsDF) - 1))\n",
    "dataAsDF = pd.concat([dataAsDF, pd.DataFrame(duration)], axis=1)\n",
    "dataAsDF = dataAsDF.rename(columns={0: 'duration_since_last_update'})"
   ]
  },
  {
   "cell_type": "code",
   "execution_count": null,
   "metadata": {},
   "outputs": [],
   "source": [
    "dataAsDF"
   ]
  },
  {
   "cell_type": "code",
   "execution_count": null,
   "metadata": {},
   "outputs": [],
   "source": [
    "dataAsDF['real_update'] = dataAsDF['duration_since_last_update'].apply(lambda update: \n",
    "                                                                       update <= timedelta(minutes=10))"
   ]
  },
  {
   "cell_type": "code",
   "execution_count": null,
   "metadata": {},
   "outputs": [],
   "source": [
    "dataAsDF.to_csv('test.csv')"
   ]
  },
  {
   "cell_type": "code",
   "execution_count": null,
   "metadata": {},
   "outputs": [],
   "source": [
    "sns.displot(data=dataAsDF.loc[dataAsDF['real_update']==True]['avail_bike_stands'],\n",
    "            kde=True)"
   ]
  },
  {
   "cell_type": "code",
   "execution_count": null,
   "metadata": {},
   "outputs": [],
   "source": [
    "weibulltheo = exponweib.rvs(1, 0.5, loc=0, scale=1, size=200)\n",
    "sns.displot(data=weibulltheo,\n",
    "           kde=True)"
   ]
  },
  {
   "cell_type": "code",
   "execution_count": null,
   "metadata": {},
   "outputs": [],
   "source": []
  }
 ],
 "metadata": {
  "kernelspec": {
   "display_name": "Python 3",
   "language": "python",
   "name": "python3"
  },
  "language_info": {
   "codemirror_mode": {
    "name": "ipython",
    "version": 3
   },
   "file_extension": ".py",
   "mimetype": "text/x-python",
   "name": "python",
   "nbconvert_exporter": "python",
   "pygments_lexer": "ipython3",
   "version": "3.8.10"
  },
  "widgets": {
   "application/vnd.jupyter.widget-state+json": {
    "state": {},
    "version_major": 1,
    "version_minor": 0
   }
  }
 },
 "nbformat": 4,
 "nbformat_minor": 5
}
